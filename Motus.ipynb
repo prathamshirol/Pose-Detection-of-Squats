{
  "nbformat": 4,
  "nbformat_minor": 0,
  "metadata": {
    "colab": {
      "provenance": []
    },
    "kernelspec": {
      "name": "python3",
      "display_name": "Python 3"
    },
    "language_info": {
      "name": "python"
    }
  },
  "cells": [
    {
      "cell_type": "code",
      "source": [
        "# Install dependencies\n",
        "!pip install mediapipe tensorflow tensorflow-addons"
      ],
      "metadata": {
        "colab": {
          "base_uri": "https://localhost:8080/"
        },
        "id": "hmk-S38VOUw2",
        "outputId": "fcae2bd4-d1fe-407d-c8f4-3c4b45dde3aa"
      },
      "execution_count": null,
      "outputs": [
        {
          "output_type": "stream",
          "name": "stdout",
          "text": [
            "Collecting mediapipe\n",
            "  Downloading mediapipe-0.10.20-cp310-cp310-manylinux_2_28_x86_64.whl.metadata (9.7 kB)\n",
            "Requirement already satisfied: tensorflow in /usr/local/lib/python3.10/dist-packages (2.17.1)\n",
            "Collecting tensorflow-addons\n",
            "  Downloading tensorflow_addons-0.23.0-cp310-cp310-manylinux_2_17_x86_64.manylinux2014_x86_64.whl.metadata (1.8 kB)\n",
            "Requirement already satisfied: absl-py in /usr/local/lib/python3.10/dist-packages (from mediapipe) (1.4.0)\n",
            "Requirement already satisfied: attrs>=19.1.0 in /usr/local/lib/python3.10/dist-packages (from mediapipe) (24.2.0)\n",
            "Requirement already satisfied: flatbuffers>=2.0 in /usr/local/lib/python3.10/dist-packages (from mediapipe) (24.3.25)\n",
            "Requirement already satisfied: jax in /usr/local/lib/python3.10/dist-packages (from mediapipe) (0.4.33)\n",
            "Requirement already satisfied: jaxlib in /usr/local/lib/python3.10/dist-packages (from mediapipe) (0.4.33)\n",
            "Requirement already satisfied: matplotlib in /usr/local/lib/python3.10/dist-packages (from mediapipe) (3.8.0)\n",
            "Requirement already satisfied: numpy<2 in /usr/local/lib/python3.10/dist-packages (from mediapipe) (1.26.4)\n",
            "Requirement already satisfied: opencv-contrib-python in /usr/local/lib/python3.10/dist-packages (from mediapipe) (4.10.0.84)\n",
            "Requirement already satisfied: protobuf<5,>=4.25.3 in /usr/local/lib/python3.10/dist-packages (from mediapipe) (4.25.5)\n",
            "Collecting sounddevice>=0.4.4 (from mediapipe)\n",
            "  Downloading sounddevice-0.5.1-py3-none-any.whl.metadata (1.4 kB)\n",
            "Requirement already satisfied: sentencepiece in /usr/local/lib/python3.10/dist-packages (from mediapipe) (0.2.0)\n",
            "Requirement already satisfied: astunparse>=1.6.0 in /usr/local/lib/python3.10/dist-packages (from tensorflow) (1.6.3)\n",
            "Requirement already satisfied: gast!=0.5.0,!=0.5.1,!=0.5.2,>=0.2.1 in /usr/local/lib/python3.10/dist-packages (from tensorflow) (0.6.0)\n",
            "Requirement already satisfied: google-pasta>=0.1.1 in /usr/local/lib/python3.10/dist-packages (from tensorflow) (0.2.0)\n",
            "Requirement already satisfied: h5py>=3.10.0 in /usr/local/lib/python3.10/dist-packages (from tensorflow) (3.12.1)\n",
            "Requirement already satisfied: libclang>=13.0.0 in /usr/local/lib/python3.10/dist-packages (from tensorflow) (18.1.1)\n",
            "Requirement already satisfied: ml-dtypes<0.5.0,>=0.3.1 in /usr/local/lib/python3.10/dist-packages (from tensorflow) (0.4.1)\n",
            "Requirement already satisfied: opt-einsum>=2.3.2 in /usr/local/lib/python3.10/dist-packages (from tensorflow) (3.4.0)\n",
            "Requirement already satisfied: packaging in /usr/local/lib/python3.10/dist-packages (from tensorflow) (24.2)\n",
            "Requirement already satisfied: requests<3,>=2.21.0 in /usr/local/lib/python3.10/dist-packages (from tensorflow) (2.32.3)\n",
            "Requirement already satisfied: setuptools in /usr/local/lib/python3.10/dist-packages (from tensorflow) (75.1.0)\n",
            "Requirement already satisfied: six>=1.12.0 in /usr/local/lib/python3.10/dist-packages (from tensorflow) (1.17.0)\n",
            "Requirement already satisfied: termcolor>=1.1.0 in /usr/local/lib/python3.10/dist-packages (from tensorflow) (2.5.0)\n",
            "Requirement already satisfied: typing-extensions>=3.6.6 in /usr/local/lib/python3.10/dist-packages (from tensorflow) (4.12.2)\n",
            "Requirement already satisfied: wrapt>=1.11.0 in /usr/local/lib/python3.10/dist-packages (from tensorflow) (1.17.0)\n",
            "Requirement already satisfied: grpcio<2.0,>=1.24.3 in /usr/local/lib/python3.10/dist-packages (from tensorflow) (1.68.1)\n",
            "Requirement already satisfied: tensorboard<2.18,>=2.17 in /usr/local/lib/python3.10/dist-packages (from tensorflow) (2.17.1)\n",
            "Requirement already satisfied: keras>=3.2.0 in /usr/local/lib/python3.10/dist-packages (from tensorflow) (3.5.0)\n",
            "Requirement already satisfied: tensorflow-io-gcs-filesystem>=0.23.1 in /usr/local/lib/python3.10/dist-packages (from tensorflow) (0.37.1)\n",
            "Collecting typeguard<3.0.0,>=2.7 (from tensorflow-addons)\n",
            "  Downloading typeguard-2.13.3-py3-none-any.whl.metadata (3.6 kB)\n",
            "Requirement already satisfied: wheel<1.0,>=0.23.0 in /usr/local/lib/python3.10/dist-packages (from astunparse>=1.6.0->tensorflow) (0.45.1)\n",
            "Requirement already satisfied: rich in /usr/local/lib/python3.10/dist-packages (from keras>=3.2.0->tensorflow) (13.9.4)\n",
            "Requirement already satisfied: namex in /usr/local/lib/python3.10/dist-packages (from keras>=3.2.0->tensorflow) (0.0.8)\n",
            "Requirement already satisfied: optree in /usr/local/lib/python3.10/dist-packages (from keras>=3.2.0->tensorflow) (0.13.1)\n",
            "Requirement already satisfied: charset-normalizer<4,>=2 in /usr/local/lib/python3.10/dist-packages (from requests<3,>=2.21.0->tensorflow) (3.4.0)\n",
            "Requirement already satisfied: idna<4,>=2.5 in /usr/local/lib/python3.10/dist-packages (from requests<3,>=2.21.0->tensorflow) (3.10)\n",
            "Requirement already satisfied: urllib3<3,>=1.21.1 in /usr/local/lib/python3.10/dist-packages (from requests<3,>=2.21.0->tensorflow) (2.2.3)\n",
            "Requirement already satisfied: certifi>=2017.4.17 in /usr/local/lib/python3.10/dist-packages (from requests<3,>=2.21.0->tensorflow) (2024.8.30)\n",
            "Requirement already satisfied: CFFI>=1.0 in /usr/local/lib/python3.10/dist-packages (from sounddevice>=0.4.4->mediapipe) (1.17.1)\n",
            "Requirement already satisfied: markdown>=2.6.8 in /usr/local/lib/python3.10/dist-packages (from tensorboard<2.18,>=2.17->tensorflow) (3.7)\n",
            "Requirement already satisfied: tensorboard-data-server<0.8.0,>=0.7.0 in /usr/local/lib/python3.10/dist-packages (from tensorboard<2.18,>=2.17->tensorflow) (0.7.2)\n",
            "Requirement already satisfied: werkzeug>=1.0.1 in /usr/local/lib/python3.10/dist-packages (from tensorboard<2.18,>=2.17->tensorflow) (3.1.3)\n",
            "Requirement already satisfied: scipy>=1.10 in /usr/local/lib/python3.10/dist-packages (from jax->mediapipe) (1.13.1)\n",
            "Requirement already satisfied: contourpy>=1.0.1 in /usr/local/lib/python3.10/dist-packages (from matplotlib->mediapipe) (1.3.1)\n",
            "Requirement already satisfied: cycler>=0.10 in /usr/local/lib/python3.10/dist-packages (from matplotlib->mediapipe) (0.12.1)\n",
            "Requirement already satisfied: fonttools>=4.22.0 in /usr/local/lib/python3.10/dist-packages (from matplotlib->mediapipe) (4.55.3)\n",
            "Requirement already satisfied: kiwisolver>=1.0.1 in /usr/local/lib/python3.10/dist-packages (from matplotlib->mediapipe) (1.4.7)\n",
            "Requirement already satisfied: pillow>=6.2.0 in /usr/local/lib/python3.10/dist-packages (from matplotlib->mediapipe) (11.0.0)\n",
            "Requirement already satisfied: pyparsing>=2.3.1 in /usr/local/lib/python3.10/dist-packages (from matplotlib->mediapipe) (3.2.0)\n",
            "Requirement already satisfied: python-dateutil>=2.7 in /usr/local/lib/python3.10/dist-packages (from matplotlib->mediapipe) (2.8.2)\n",
            "Requirement already satisfied: pycparser in /usr/local/lib/python3.10/dist-packages (from CFFI>=1.0->sounddevice>=0.4.4->mediapipe) (2.22)\n",
            "Requirement already satisfied: MarkupSafe>=2.1.1 in /usr/local/lib/python3.10/dist-packages (from werkzeug>=1.0.1->tensorboard<2.18,>=2.17->tensorflow) (3.0.2)\n",
            "Requirement already satisfied: markdown-it-py>=2.2.0 in /usr/local/lib/python3.10/dist-packages (from rich->keras>=3.2.0->tensorflow) (3.0.0)\n",
            "Requirement already satisfied: pygments<3.0.0,>=2.13.0 in /usr/local/lib/python3.10/dist-packages (from rich->keras>=3.2.0->tensorflow) (2.18.0)\n",
            "Requirement already satisfied: mdurl~=0.1 in /usr/local/lib/python3.10/dist-packages (from markdown-it-py>=2.2.0->rich->keras>=3.2.0->tensorflow) (0.1.2)\n",
            "Downloading mediapipe-0.10.20-cp310-cp310-manylinux_2_28_x86_64.whl (35.6 MB)\n",
            "\u001b[2K   \u001b[90m━━━━━━━━━━━━━━━━━━━━━━━━━━━━━━━━━━━━━━━━\u001b[0m \u001b[32m35.6/35.6 MB\u001b[0m \u001b[31m45.4 MB/s\u001b[0m eta \u001b[36m0:00:00\u001b[0m\n",
            "\u001b[?25hDownloading tensorflow_addons-0.23.0-cp310-cp310-manylinux_2_17_x86_64.manylinux2014_x86_64.whl (611 kB)\n",
            "\u001b[2K   \u001b[90m━━━━━━━━━━━━━━━━━━━━━━━━━━━━━━━━━━━━━━━━\u001b[0m \u001b[32m611.8/611.8 kB\u001b[0m \u001b[31m37.1 MB/s\u001b[0m eta \u001b[36m0:00:00\u001b[0m\n",
            "\u001b[?25hDownloading sounddevice-0.5.1-py3-none-any.whl (32 kB)\n",
            "Downloading typeguard-2.13.3-py3-none-any.whl (17 kB)\n",
            "Installing collected packages: typeguard, tensorflow-addons, sounddevice, mediapipe\n",
            "  Attempting uninstall: typeguard\n",
            "    Found existing installation: typeguard 4.4.1\n",
            "    Uninstalling typeguard-4.4.1:\n",
            "      Successfully uninstalled typeguard-4.4.1\n",
            "\u001b[31mERROR: pip's dependency resolver does not currently take into account all the packages that are installed. This behaviour is the source of the following dependency conflicts.\n",
            "inflect 7.4.0 requires typeguard>=4.0.1, but you have typeguard 2.13.3 which is incompatible.\u001b[0m\u001b[31m\n",
            "\u001b[0mSuccessfully installed mediapipe-0.10.20 sounddevice-0.5.1 tensorflow-addons-0.23.0 typeguard-2.13.3\n"
          ]
        }
      ]
    },
    {
      "cell_type": "markdown",
      "source": [
        "1.Pose Detection and Video Processing\n",
        "python\n",
        "Copy code\n"
      ],
      "metadata": {
        "id": "qNYc6MWBf0SQ"
      }
    },
    {
      "cell_type": "code",
      "source": [
        "import cv2\n",
        "import mediapipe as mp\n",
        "import numpy as np\n",
        "\n",
        "mp_pose = mp.solutions.pose\n",
        "pose = mp_pose.Pose()\n",
        "\n",
        "def calculate_angle(a, b, c):\n",
        "    a = np.array(a)\n",
        "    b = np.array(b)\n",
        "    c = np.array(c)\n",
        "    radians = np.arctan2(c[1] - b[1], c[0] - b[0]) - np.arctan2(a[1] - b[1], a[0] - b[0])\n",
        "    angle = np.abs(radians * 180.0 / np.pi)\n",
        "    return 360 - angle if angle > 180.0 else angle\n",
        "\n",
        "video_path = \"/content/istockphoto-925697370-640_adpp_is.mp4\"\n",
        "cap = cv2.VideoCapture(video_path)\n",
        "angles = []\n",
        "\n",
        "output_path = \"output_video.mp4\"\n",
        "fourcc = cv2.VideoWriter_fourcc(*'mp4v')\n",
        "out = cv2.VideoWriter(output_path, fourcc, 30.0, (int(cap.get(3)), int(cap.get(4))))\n",
        "\n",
        "while cap.isOpened():\n",
        "    ret, frame = cap.read()\n",
        "    if not ret:\n",
        "        break\n",
        "\n",
        "    frame_resized = cv2.resize(frame, (224, 224))\n",
        "    image = cv2.cvtColor(frame_resized, cv2.COLOR_BGR2RGB)\n",
        "    results = pose.process(image)\n",
        "\n",
        "    if results.pose_landmarks:\n",
        "        landmarks = results.pose_landmarks.landmark\n",
        "        hip = [landmarks[mp_pose.PoseLandmark.LEFT_HIP.value].x, landmarks[mp_pose.PoseLandmark.LEFT_HIP.value].y]\n",
        "        knee = [landmarks[mp_pose.PoseLandmark.LEFT_KNEE.value].x, landmarks[mp_pose.PoseLandmark.LEFT_KNEE.value].y]\n",
        "        ankle = [landmarks[mp_pose.PoseLandmark.LEFT_ANKLE.value].x, landmarks[mp_pose.PoseLandmark.LEFT_ANKLE.value].y]\n",
        "\n",
        "        angle = calculate_angle(hip, knee, ankle)\n",
        "        angles.append(angle)\n",
        "\n",
        "        frame_height, frame_width, _ = frame.shape\n",
        "        hip_coords = (int(hip[0] * frame_width), int(hip[1] * frame_height))\n",
        "        knee_coords = (int(knee[0] * frame_width), int(knee[1] * frame_height))\n",
        "        ankle_coords = (int(ankle[0] * frame_width), int(ankle[1] * frame_height))\n",
        "\n",
        "        cv2.line(frame, hip_coords, knee_coords, (255, 0, 0), 2)\n",
        "        cv2.line(frame, knee_coords, ankle_coords, (255, 0, 0), 2)\n",
        "        cv2.putText(frame, f'Angle: {int(angle)}', (knee_coords[0] - 50, knee_coords[1] - 20), cv2.FONT_HERSHEY_SIMPLEX, 0.5, (0, 255, 255), 2)\n",
        "\n",
        "    out.write(frame)\n",
        "\n",
        "cap.release()\n",
        "out.release()\n",
        "pose.close()\n",
        "print(\"Knee Angles:\", angles)\n"
      ],
      "metadata": {
        "id": "j2VSDcTIPueI",
        "colab": {
          "base_uri": "https://localhost:8080/"
        },
        "outputId": "0397d8be-087f-4402-c02e-a0a1d09aff35"
      },
      "execution_count": 10,
      "outputs": [
        {
          "output_type": "stream",
          "name": "stdout",
          "text": [
            "Knee Angles: [110.73016745264084, 103.41430173777285, 93.86835346289209, 85.17548222919592, 79.41938570133583, 71.8759514606915, 67.50847982647987, 63.95201371486314, 61.202579371712105, 57.76513841931804, 57.065426578236014, 58.70997130434524, 61.59366649098852, 63.460141429284775, 67.92772436884097, 75.28902243272586, 83.17752960547462, 93.305941093763, 100.31034232825465, 106.00254098735694, 111.22353305103684, 117.58306907023821, 124.31136101639547, 130.52921803015067, 138.39701128946197, 133.12931089479653, 156.18835669931542, 158.97341156522597, 162.43079618741913, 165.80175604389925, 168.37156894804326, 169.3356083725421, 170.03689867709323, 168.05944315996186, 140.58457385380518, 172.59865535276526, 169.0887510507849, 178.80047353374624, 177.92273151824435, 176.40652322875047, 177.02460705962943, 175.41258670531425, 175.99135217762293, 176.74493180171228, 174.8004700782369, 158.0913073302454, 109.81585761638105, 102.73636068987406, 93.84174441790006, 84.29727523696877, 79.5292810320659, 73.03768699602689, 71.01592851107391, 69.0606064177677, 66.44724290339677, 64.23405943211324, 62.91913559850464, 62.73737548028239, 64.1830659843961, 67.26441490014481, 69.31768245220711, 71.17657802434833, 79.11401203317536, 86.53933244434923, 92.45376927924293, 98.86440345241317, 105.60712628462846, 110.35889237980213, 116.57991163845786, 122.93349044409423, 127.29771545401393, 133.29641030664425, 138.2769354581699, 145.27286875579904, 150.41332007857253, 154.7439270553455, 158.16267533114794, 161.44022167556267, 164.12177716178815, 164.16346605027124, 165.06706063996643, 167.16862245180022, 153.3937793234048, 151.99343535715025, 71.1017163732582, 70.51008110848197, 148.29722965431725, 177.317282234323, 178.56302073359586, 178.74756330874447, 178.95538135166439, 179.88399592832525, 179.1906686377167, 179.08815692014085, 179.0334863029337, 178.8412222513079, 177.83214339445965, 175.9084756823519, 177.57879557616272, 175.37403180136997, 174.39181972619625, 170.45305702600245, 178.38252703903166, 177.54654916017583, 175.7930895174515, 176.27063211136564, 176.4698927234634, 161.10755688080604, 149.7584794150083, 167.47254995518358, 168.87064364743668, 167.2730932840395, 164.35073567390617, 161.98321154630744, 158.54360618167047, 155.71265020856404, 151.66123828986608, 148.3702247495234, 143.127539410372, 137.12684817033002, 128.45765473832245, 120.65129834881806, 114.89275886552028, 108.21703617593329, 104.50394128132467, 96.82350364624347, 86.11258302191665, 80.33923334891253, 74.89450852551495, 72.41994739175131, 71.61462440426553, 68.27285800256793, 64.90882879372829, 62.54156841428686, 61.84321982715647, 62.826216342418554, 64.23915776712957, 67.2145496497872, 68.19619963232016, 76.17131870196727, 83.70604670599892, 93.32438928481147, 99.59834162578396, 106.49410741372097, 111.96054439147272, 116.92683531943112, 125.20308601688262, 130.1448764560338, 137.56292121604827, 144.5992953695597, 152.13201663122527, 147.58461464413108, 158.41745793294493, 163.83442171878445, 167.06883104270125, 168.6838851831816, 170.55892865480806, 172.78978015609943, 173.3294480738744, 175.42462704286214, 179.23774638297994, 175.51320031961257, 170.47670575199845, 174.2507958930466, 179.15512450341905, 179.22380430754168, 179.19115319306778, 178.12138346562713, 177.28422195066992, 178.645652822861, 178.6240962028263, 177.74719563003237, 152.1681936554033, 21.20894884223372, 141.6904641302116, 46.606787361330305, 172.84890110833499, 179.89595980742047, 179.8113900477401, 178.42741790913286, 179.5978339875512, 177.5875483069614, 108.69500258501364, 101.16372281581177, 92.3723724503957, 83.96483739947735, 77.6093697897285, 71.19000245861142, 67.94329445586719, 65.5124213489516, 62.44271249459772, 59.47752659369557, 57.99242892516892, 58.883550186430334, 60.428216173839445, 61.934933335507, 62.3919713862643, 69.75280512309584, 77.63464755333653, 85.8511439221143, 93.60359017181005, 100.4428247300205, 105.62999274508974, 111.0622232063025, 116.50436223459454, 122.19511536088666, 125.82907467508572, 132.87056274216116, 138.3656755441563, 144.06510403918986, 150.76873575216393, 154.9633043816641, 160.23715846117742, 162.02409419248585, 162.106439798835, 162.3778631854608, 165.62959065946123, 136.07825589177705, 67.15828502900933, 167.45204749385329, 164.0811822343257, 178.58104712776705, 177.9765763588918, 179.2506888966593, 179.39431454084985, 177.04656493650953, 177.30643971736913, 178.23038284611295, 112.82062267756403, 107.19222624918008, 99.08344950279144, 92.46795194361596, 82.38261263632351, 75.86361939138763, 70.67792873579204, 65.00001508247965, 61.424432032841494, 58.39727725653975, 57.235617695112666, 57.264503654945024, 60.562327439697135, 62.20260692162488, 63.28876594625155, 71.48669724371203, 80.13984243563905, 88.49230795945107, 96.59688336386658, 103.18034027066045, 110.03386954465473, 116.66105815663693, 123.72945380573469, 128.66976949594672, 132.0874604588982, 138.17454844605916, 142.48902812817775, 155.53731408930088, 159.9325048000024, 161.87137744703617, 163.4490433058988, 166.29151615299662, 165.6517759352218, 166.51560329653208, 168.31891006712831, 171.01686309730428, 179.38459253583002, 173.89688340124314, 176.93451819815965, 177.7801839201436, 178.89903851531633, 179.6182769632594, 179.54747765984462, 179.90525639116308, 179.97572666215513, 179.81738948294733, 179.4309198706025, 178.5126598793982, 178.17754761302325, 176.56774546168444, 175.90229722251323, 175.4833654062728, 176.51354287604468, 177.85257248221603, 179.66521954637744, 176.69253725985962, 179.06729718932186, 163.53624874652766, 168.71927510398544, 141.8210670828499, 115.56678568378, 108.67480336623139, 101.11019261012578, 92.12448484920169, 83.48179685212243, 76.34009164217343, 71.51124027396678, 63.93898743819971, 60.00804316943975, 57.32452063694824, 59.337694681920304, 62.140541984000194, 64.53286951980898, 67.45614663559927, 67.8159706609668, 75.97879904545468, 82.63025639428668, 91.10435685827883, 98.16553385097869, 103.33459521261936, 109.80240035939164, 115.93099725545794, 122.4151849342259, 127.40070003298685, 134.34101480318768, 140.11846325625572, 145.81415834345077, 152.88456446857018, 157.97491926049867, 161.63589714494094, 165.38068241737957, 167.6139745963364, 165.61123911819138, 168.76898120611992, 80.11805111428045, 154.71248601977834, 146.15545556705897, 178.0784578893521, 176.304155358223, 175.25821305656723, 112.86706269723543, 104.3066059269712, 95.87634932323462, 88.77908964127064, 80.81934146800434, 75.2304784335954, 67.77393821078091, 62.32941175739115, 59.802592274529545, 57.23553047456171, 56.65076801317069, 56.67180039064211, 57.92862701598878, 61.347755162098196, 63.75454889749774, 65.56018357080956, 72.14532071549024, 79.10758986962848, 86.81211617700271, 94.37939388739973, 99.82575635467907, 106.2448691492358, 111.80039313371756, 116.88504462227748, 124.4502137220413, 128.81893559942134, 134.77754765320898, 140.71837582975024, 146.7647135448435, 154.69749733350548, 158.45051426813615, 161.43890118924978, 163.35637355287318, 165.70594619207694, 165.53844972633382, 166.39510584945378, 169.71343512171447, 174.8087017826324, 178.10760941838757, 179.58893534319964, 178.0798987720914, 177.24885794759012, 178.4285699094972, 178.66868360991953, 177.82222480490267, 177.44263972841543, 177.22066287631685, 176.3213896977149, 176.05564974990398, 178.09300169499664, 178.4952288371434, 113.16994976328013, 108.0635680737321, 99.76518241922908, 92.50181541095675, 80.73571004519435, 74.44883651378562, 69.58900138422393, 63.255934112386846, 61.26417522949906, 60.851241036414834, 60.97050062338975, 61.43574278628005, 64.11472514686024, 65.3238475422529, 67.38497755092345, 69.10254021029958, 74.18163722971643, 80.41012136494994, 87.60657403580599, 92.92983412033874, 98.83321734387532, 104.42175623737809, 111.36256702515588, 117.14398484295289, 122.55978225937308, 127.98244441914156, 132.68108771266785, 137.71543400695484, 143.38854096141102, 147.79988580168256, 152.2500917748899, 156.88329299574423, 159.66607005965164, 161.29491165899836, 163.75470183284142, 166.9866088102738, 168.34874042580915, 168.18493929594686, 169.3777224006311, 169.3814061210431, 172.94788220712408, 175.7884712369974, 75.88556958107948, 172.9950565540494, 178.35241262182123, 178.95195308786782, 178.87371793149296, 179.57217266195713, 179.23318336164562, 178.97311353862528, 177.89321642080125]\n"
          ]
        }
      ]
    },
    {
      "cell_type": "markdown",
      "source": [
        "Mobile Optimization and TensorFlow Lite Conversion"
      ],
      "metadata": {
        "id": "exDgLZwff7pz"
      }
    },
    {
      "cell_type": "code",
      "source": [
        "import tensorflow as tf\n",
        "import numpy as np\n",
        "\n",
        "model = tf.keras.Sequential([\n",
        "    tf.keras.layers.InputLayer(input_shape=(224, 224, 3)),\n",
        "    tf.keras.layers.Conv2D(16, (3, 3), activation='relu'),\n",
        "    tf.keras.layers.MaxPooling2D((2, 2)),\n",
        "    tf.keras.layers.Flatten(),\n",
        "    tf.keras.layers.Dense(10, activation='softmax')\n",
        "])\n",
        "\n",
        "model.compile(optimizer='adam', loss='sparse_categorical_crossentropy', metrics=['accuracy'])\n",
        "\n",
        "model.save(\"pose_model.h5\")\n",
        "\n",
        "converter = tf.lite.TFLiteConverter.from_keras_model(model)\n",
        "converter.optimizations = [tf.lite.Optimize.DEFAULT]\n",
        "converter.target_spec.supported_types = [tf.float16]\n",
        "\n",
        "converter.representative_dataset = lambda: [\n",
        "    [np.random.rand(1, 224, 224, 3).astype(np.float32)]\n",
        "]\n",
        "\n",
        "tflite_model = converter.convert()\n",
        "with open(\"pose_detection_model1.tflite\", \"wb\") as f:\n",
        "    f.write(tflite_model)\n",
        "\n",
        "print(\"TensorFlow Lite model saved as pose_detection_model1.tflite.\")\n"
      ],
      "metadata": {
        "colab": {
          "base_uri": "https://localhost:8080/"
        },
        "id": "zjCXYUdjdyWX",
        "outputId": "4ad368d0-e37c-4a6d-bea1-d38a53f5d260"
      },
      "execution_count": 11,
      "outputs": [
        {
          "output_type": "stream",
          "name": "stderr",
          "text": [
            "/usr/local/lib/python3.10/dist-packages/keras/src/layers/core/input_layer.py:26: UserWarning: Argument `input_shape` is deprecated. Use `shape` instead.\n",
            "  warnings.warn(\n",
            "WARNING:absl:You are saving your model as an HDF5 file via `model.save()` or `keras.saving.save_model(model)`. This file format is considered legacy. We recommend using instead the native Keras format, e.g. `model.save('my_model.keras')` or `keras.saving.save_model(model, 'my_model.keras')`. \n"
          ]
        },
        {
          "output_type": "stream",
          "name": "stdout",
          "text": [
            "Saved artifact at '/tmp/tmpcfc116jx'. The following endpoints are available:\n",
            "\n",
            "* Endpoint 'serve'\n",
            "  args_0 (POSITIONAL_ONLY): TensorSpec(shape=(None, 224, 224, 3), dtype=tf.float32, name='keras_tensor_35')\n",
            "Output Type:\n",
            "  TensorSpec(shape=(None, 10), dtype=tf.float32, name=None)\n",
            "Captures:\n",
            "  132323756087552: TensorSpec(shape=(), dtype=tf.resource, name=None)\n",
            "  132323753487600: TensorSpec(shape=(), dtype=tf.resource, name=None)\n",
            "  132323753485136: TensorSpec(shape=(), dtype=tf.resource, name=None)\n",
            "  132323753482848: TensorSpec(shape=(), dtype=tf.resource, name=None)\n",
            "TensorFlow Lite model saved as pose_detection_model1.tflite.\n"
          ]
        }
      ]
    },
    {
      "cell_type": "markdown",
      "source": [
        "TensorFlow Lite Inference"
      ],
      "metadata": {
        "id": "YOLzpcaEgILP"
      }
    },
    {
      "cell_type": "code",
      "source": [
        "import tensorflow as tf\n",
        "import numpy as np\n",
        "\n",
        "interpreter = tf.lite.Interpreter(model_path=\"pose_detection_model1.tflite\")\n",
        "interpreter.allocate_tensors()\n",
        "\n",
        "input_details = interpreter.get_input_details()\n",
        "output_details = interpreter.get_output_details()\n",
        "\n",
        "input_shape = input_details[0]['shape']\n",
        "dummy_input = np.random.rand(*input_shape).astype(np.float32)\n",
        "\n",
        "interpreter.set_tensor(input_details[0]['index'], dummy_input)\n",
        "interpreter.invoke()\n",
        "\n",
        "output_data = interpreter.get_tensor(output_details[0]['index'])\n",
        "print(\"Inference output:\", output_data)\n"
      ],
      "metadata": {
        "colab": {
          "base_uri": "https://localhost:8080/"
        },
        "id": "dkteccBggDDv",
        "outputId": "3f283c92-ca29-4951-dbed-8b7364bd1184"
      },
      "execution_count": 12,
      "outputs": [
        {
          "output_type": "stream",
          "name": "stdout",
          "text": [
            "Inference output: [[0.06195411 0.20173225 0.0774616  0.14309861 0.1125245  0.09503771\n",
            "  0.078137   0.08052616 0.09552439 0.05400362]]\n"
          ]
        }
      ]
    }
  ]
}